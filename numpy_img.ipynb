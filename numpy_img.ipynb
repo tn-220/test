{
  "nbformat": 4,
  "nbformat_minor": 0,
  "metadata": {
    "colab": {
      "provenance": [],
      "authorship_tag": "ABX9TyOj7tDMVPYUEU0pFj5Q5U0n",
      "include_colab_link": true
    },
    "kernelspec": {
      "name": "python3",
      "display_name": "Python 3"
    },
    "language_info": {
      "name": "python"
    }
  },
  "cells": [
    {
      "cell_type": "markdown",
      "metadata": {
        "id": "view-in-github",
        "colab_type": "text"
      },
      "source": [
        "<a href=\"https://colab.research.google.com/github/tn-220/test/blob/main/numpy_img.ipynb\" target=\"_parent\"><img src=\"https://colab.research.google.com/assets/colab-badge.svg\" alt=\"Open In Colab\"/></a>"
      ]
    },
    {
      "cell_type": "code",
      "execution_count": null,
      "metadata": {
        "id": "lso4QJ0BW_gS"
      },
      "outputs": [],
      "source": [
        "import numpy as np\n"
      ]
    },
    {
      "cell_type": "code",
      "source": [
        "!wget --no-clobber https://github.com/tn-220/test/raw/main/myImage.jpg"
      ],
      "metadata": {
        "id": "4BdcdBfdZSWz"
      },
      "execution_count": null,
      "outputs": []
    },
    {
      "cell_type": "code",
      "source": [
        "from skimage import io\n",
        "photo = io.imread('myImage.jpg')\n",
        "type(photo)"
      ],
      "metadata": {
        "id": "qw0kqx9pXbni"
      },
      "execution_count": null,
      "outputs": []
    },
    {
      "cell_type": "code",
      "source": [
        "import matplotlib.pyplot as plt\n",
        "plt.imshow(photo)"
      ],
      "metadata": {
        "id": "Xz-OLSfYXaLG"
      },
      "execution_count": null,
      "outputs": []
    },
    {
      "cell_type": "code",
      "source": [
        "photo.shape"
      ],
      "metadata": {
        "id": "lASN4m95ZnLf"
      },
      "execution_count": null,
      "outputs": []
    },
    {
      "cell_type": "code",
      "source": [
        "plt.imshow(photo[::-1])     # reverse in the row"
      ],
      "metadata": {
        "id": "PBqayp1nZxyN"
      },
      "execution_count": null,
      "outputs": []
    },
    {
      "cell_type": "code",
      "source": [
        "plt.imshow(photo[:,::-1])     # mirror image by reversint the columns"
      ],
      "metadata": {
        "id": "4QTy6OXRaInh"
      },
      "execution_count": null,
      "outputs": []
    },
    {
      "cell_type": "code",
      "source": [
        "plt.imshow(photo[100:700,600:900])   #taking a section of photo"
      ],
      "metadata": {
        "id": "tGbQ7O4zcY1m"
      },
      "execution_count": null,
      "outputs": []
    },
    {
      "cell_type": "code",
      "source": [
        "plt.imshow(photo[::20,::20])      #make the image smaller "
      ],
      "metadata": {
        "id": "VDAXgOOldKU8"
      },
      "execution_count": null,
      "outputs": []
    },
    {
      "cell_type": "code",
      "source": [
        "photo_sin = np.sin(photo)  # no need to write a loop to apply a builtin function\n",
        "photo_sin"
      ],
      "metadata": {
        "id": "KJlwAUU-dsIu"
      },
      "execution_count": null,
      "outputs": []
    },
    {
      "cell_type": "code",
      "source": [
        "print(np.sum(photo))\n",
        "print(np.prod(photo))\n",
        "print(np.mean(photo))\n",
        "print(np.std(photo))\n",
        "print(np.var(photo))\n",
        "print(np.min(photo))\n",
        "print(np.max(photo))\n",
        "print(np.argmin(photo))   # index value of min\n",
        "print(np.argmax(photo))"
      ],
      "metadata": {
        "id": "affXA6UberVh"
      },
      "execution_count": null,
      "outputs": []
    },
    {
      "cell_type": "code",
      "source": [
        "z = np.array([1, 2, 3, 4, 5])\n",
        "z"
      ],
      "metadata": {
        "id": "o3LX73uGfbGi"
      },
      "execution_count": null,
      "outputs": []
    },
    {
      "cell_type": "code",
      "source": [
        "z > 3"
      ],
      "metadata": {
        "id": "_-IdOKuDfiEG"
      },
      "execution_count": null,
      "outputs": []
    },
    {
      "cell_type": "code",
      "source": [
        "z < 3"
      ],
      "metadata": {
        "id": "o9KASfkgeHWn"
      },
      "execution_count": null,
      "outputs": []
    },
    {
      "cell_type": "code",
      "source": [
        "z[z>3]    # mask"
      ],
      "metadata": {
        "id": "WRPFI2SKftHs"
      },
      "execution_count": null,
      "outputs": []
    },
    {
      "cell_type": "code",
      "source": [
        "photo_masked = np.where(photo > 100, 255, 00)"
      ],
      "metadata": {
        "id": "Qy7WIjbmf7U9"
      },
      "execution_count": null,
      "outputs": []
    },
    {
      "cell_type": "code",
      "source": [
        "plt.imshow(photo_masked)"
      ],
      "metadata": {
        "id": "wd-vZ5CrgGBM"
      },
      "execution_count": null,
      "outputs": []
    },
    {
      "cell_type": "code",
      "source": [
        "a_array = np.array([2, 2, 2, 2])\n",
        "b_array = np.array([5, 6, 7, 8])"
      ],
      "metadata": {
        "id": "to_IA-wJiFPJ"
      },
      "execution_count": null,
      "outputs": []
    },
    {
      "cell_type": "code",
      "source": [
        "a_array + b_array"
      ],
      "metadata": {
        "id": "0mbzTr_LiR0Q"
      },
      "execution_count": null,
      "outputs": []
    },
    {
      "cell_type": "code",
      "source": [
        "a_array + 30"
      ],
      "metadata": {
        "id": "mXmgab3yiYE0"
      },
      "execution_count": null,
      "outputs": []
    },
    {
      "cell_type": "code",
      "source": [
        "a_array * b_array "
      ],
      "metadata": {
        "id": "9D5JDwNjidU_"
      },
      "execution_count": null,
      "outputs": []
    },
    {
      "cell_type": "code",
      "source": [
        "a_array * 10"
      ],
      "metadata": {
        "id": "KGOqxKjziiMv"
      },
      "execution_count": null,
      "outputs": []
    },
    {
      "cell_type": "code",
      "source": [
        "a_array @ b_array     # dot product"
      ],
      "metadata": {
        "id": "bTtasej4il0U"
      },
      "execution_count": null,
      "outputs": []
    },
    {
      "cell_type": "code",
      "source": [
        "print(photo.shape)\n",
        "plt.imshow(photo[:,:,0].T)        # transpose over one layer"
      ],
      "metadata": {
        "id": "uiOuZ43hiq0t"
      },
      "execution_count": null,
      "outputs": []
    },
    {
      "cell_type": "code",
      "source": [],
      "metadata": {
        "id": "p_S01RgFjY_b"
      },
      "execution_count": null,
      "outputs": []
    }
  ]
}