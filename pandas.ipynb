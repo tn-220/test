{
  "nbformat": 4,
  "nbformat_minor": 0,
  "metadata": {
    "colab": {
      "provenance": [],
      "authorship_tag": "ABX9TyOY5IHE0Hf7WNAmE7n62uW8",
      "include_colab_link": true
    },
    "kernelspec": {
      "name": "python3",
      "display_name": "Python 3"
    },
    "language_info": {
      "name": "python"
    }
  },
  "cells": [
    {
      "cell_type": "markdown",
      "metadata": {
        "id": "view-in-github",
        "colab_type": "text"
      },
      "source": [
        "<a href=\"https://colab.research.google.com/github/tn-220/test/blob/main/pandas.ipynb\" target=\"_parent\"><img src=\"https://colab.research.google.com/assets/colab-badge.svg\" alt=\"Open In Colab\"/></a>"
      ]
    },
    {
      "cell_type": "code",
      "source": [
        "pip install pandas"
      ],
      "metadata": {
        "id": "KcuS5Rx8psX-"
      },
      "execution_count": null,
      "outputs": []
    },
    {
      "cell_type": "code",
      "source": [
        "pip install --upgrade xlrd\n"
      ],
      "metadata": {
        "id": "6jgD0wJnsskj"
      },
      "execution_count": null,
      "outputs": []
    },
    {
      "cell_type": "code",
      "execution_count": null,
      "metadata": {
        "id": "CvsFKOgmktwM"
      },
      "outputs": [],
      "source": [
        "import numpy as np\n",
        "import pandas as pd\n",
        "import matplotlib.pyplot as plt\n",
        "\n",
        "%matplotlib inline  \n",
        "# this magic function enables the inline plotting, where the plots/graphs will be displayed just below the cell"
      ]
    },
    {
      "cell_type": "code",
      "source": [
        "pd.__version__"
      ],
      "metadata": {
        "id": "C3IvhK1kqHhM"
      },
      "execution_count": null,
      "outputs": []
    },
    {
      "cell_type": "code",
      "source": [
        "!wget --no-clobber https://github.com/tn-220/test/raw/main/titanic3.xls"
      ],
      "metadata": {
        "id": "10GazYT1nOiC"
      },
      "execution_count": null,
      "outputs": []
    },
    {
      "cell_type": "code",
      "source": [
        "titanic_df = pd.read_excel('titanic3.xls', 'titanic3', index_col = None, na_values=['NA'])"
      ],
      "metadata": {
        "id": "aO3SsDs_mte0"
      },
      "execution_count": null,
      "outputs": []
    },
    {
      "cell_type": "code",
      "source": [
        "titanic_df.head()"
      ],
      "metadata": {
        "id": "DH8-1KmPrk3A"
      },
      "execution_count": null,
      "outputs": []
    },
    {
      "cell_type": "code",
      "source": [
        "titanic_df.describe()"
      ],
      "metadata": {
        "id": "63f8SUmtttmF"
      },
      "execution_count": null,
      "outputs": []
    },
    {
      "cell_type": "code",
      "source": [
        "titanic_df.drop(['ticket', 'cabin', 'boat', 'body'], axis=1).head()"
      ],
      "metadata": {
        "id": "NDuzAsAZtx7t"
      },
      "execution_count": null,
      "outputs": []
    },
    {
      "cell_type": "code",
      "source": [
        "titanic_df.isnull()"
      ],
      "metadata": {
        "id": "dEjYvVfFvlGq"
      },
      "execution_count": null,
      "outputs": []
    },
    {
      "cell_type": "code",
      "source": [
        "titanic_df.isnull().sum()"
      ],
      "metadata": {
        "id": "G1PVJvRlvr1D"
      },
      "execution_count": null,
      "outputs": []
    },
    {
      "cell_type": "code",
      "source": [
        "pd.value_counts(titanic_df['survived']).plot.bar()"
      ],
      "metadata": {
        "id": "KvtoYQH0v3l2"
      },
      "execution_count": null,
      "outputs": []
    },
    {
      "cell_type": "code",
      "source": [
        "titanic_df['survived'].mean()"
      ],
      "metadata": {
        "id": "ZudeIqgmwHHS"
      },
      "execution_count": null,
      "outputs": []
    },
    {
      "cell_type": "code",
      "source": [
        "titanic_df.groupby(['sex']).mean()"
      ],
      "metadata": {
        "id": "rDwyf_GewOu2"
      },
      "execution_count": null,
      "outputs": []
    },
    {
      "cell_type": "code",
      "source": [
        "titanic_df.groupby(['sex','pclass']).mean()"
      ],
      "metadata": {
        "id": "F1WziNXBwgNI"
      },
      "execution_count": null,
      "outputs": []
    },
    {
      "cell_type": "code",
      "source": [
        "titanic_df[titanic_df['age']<18].groupby(['sex','pclass']).mean()"
      ],
      "metadata": {
        "id": "xXKKWJh7wwkQ"
      },
      "execution_count": null,
      "outputs": []
    },
    {
      "cell_type": "code",
      "source": [
        "pip install quandl"
      ],
      "metadata": {
        "id": "JS3TQUAx4rWh"
      },
      "execution_count": null,
      "outputs": []
    },
    {
      "cell_type": "code",
      "source": [
        "\"\"\"\n",
        "    Quandl is a platform that provides its users with economic, financial and alternative datasets.\n",
        "\"\"\"\n",
        "import quandl"
      ],
      "metadata": {
        "id": "XQnr7Pm9yRIN"
      },
      "execution_count": null,
      "outputs": []
    },
    {
      "cell_type": "code",
      "source": [
        "quandl.ApiConfig.api_key = ''\n",
        "apple = quandl.get('WIKI/AAPL')   # retrieve Apple data\n",
        "ms = quandl.get('WIKI/MSFT')      # retrieve MSFT data"
      ],
      "metadata": {
        "id": "3aqbK-kI2SAx"
      },
      "execution_count": null,
      "outputs": []
    },
    {
      "cell_type": "code",
      "source": [
        "%matplotlib inline\n",
        "ms.head()"
      ],
      "metadata": {
        "id": "H0NfcDhN5ZwG"
      },
      "execution_count": null,
      "outputs": []
    },
    {
      "cell_type": "code",
      "source": [
        "ms['Adj. Close'].plot()"
      ],
      "metadata": {
        "id": "00RBU5WT5ggH"
      },
      "execution_count": null,
      "outputs": []
    },
    {
      "cell_type": "code",
      "source": [
        "ms.index"
      ],
      "metadata": {
        "id": "SA64RYhF5zuc"
      },
      "execution_count": null,
      "outputs": []
    },
    {
      "cell_type": "code",
      "source": [
        "ms['2018']['Adj. Close'].plot()"
      ],
      "metadata": {
        "id": "a9pygPFJ54lQ"
      },
      "execution_count": null,
      "outputs": []
    },
    {
      "cell_type": "code",
      "source": [
        "ms['2018-03']['Adj. Close'].plot()"
      ],
      "metadata": {
        "id": "vrfh85tD6TCC"
      },
      "execution_count": null,
      "outputs": []
    },
    {
      "cell_type": "code",
      "source": [
        "ms.loc['2018-01-01':'2018-03-31']['Adj. Close'].plot()"
      ],
      "metadata": {
        "id": "Ns2GZez569PC"
      },
      "execution_count": null,
      "outputs": []
    },
    {
      "cell_type": "code",
      "source": [
        "ms_price = ms[['Adj. Close']]\n",
        "print(ms_price)"
      ],
      "metadata": {
        "id": "XO3UnjLe7jxa"
      },
      "execution_count": null,
      "outputs": []
    },
    {
      "cell_type": "code",
      "source": [
        "apple_price = apple[['Adj. Close']]\n",
        "apple_price"
      ],
      "metadata": {
        "id": "IDibaBjF9svr"
      },
      "execution_count": null,
      "outputs": []
    },
    {
      "cell_type": "code",
      "source": [
        "ms_price.rename(columns={'Adj. Close':'MSFT'}, inplace=True)\n",
        "ms_price"
      ],
      "metadata": {
        "id": "vg09RvEG-Znq"
      },
      "execution_count": null,
      "outputs": []
    },
    {
      "cell_type": "code",
      "source": [
        "apple_price.rename(columns={'Adj. Close':'AAPL'}, inplace=True)\n",
        "apple_price"
      ],
      "metadata": {
        "id": "D49DBHQ8_aES"
      },
      "execution_count": null,
      "outputs": []
    },
    {
      "cell_type": "code",
      "source": [
        "both_stocks = ms_price.join(apple_price, how='inner')"
      ],
      "metadata": {
        "id": "EsE9cneY_kzQ"
      },
      "execution_count": null,
      "outputs": []
    },
    {
      "cell_type": "code",
      "source": [
        "both_stocks.plot()"
      ],
      "metadata": {
        "id": "1PJ6rEse_3Bh"
      },
      "execution_count": null,
      "outputs": []
    },
    {
      "cell_type": "code",
      "source": [
        "both_stocks.loc['2018'].plot()"
      ],
      "metadata": {
        "id": "0xkub6Vs_8do"
      },
      "execution_count": null,
      "outputs": []
    },
    {
      "cell_type": "code",
      "source": [
        "both_stocks['2018'].rolling(min_periods = 10, window = 60, center =False).mean().plot()"
      ],
      "metadata": {
        "id": "6QNYqe-5Ado9"
      },
      "execution_count": null,
      "outputs": []
    },
    {
      "cell_type": "code",
      "source": [
        "both_stocks['2018'].rolling(min_periods = 10, window = 60, center =False).std().plot()"
      ],
      "metadata": {
        "id": "8izL0LyWBDtq"
      },
      "execution_count": null,
      "outputs": []
    },
    {
      "cell_type": "code",
      "source": [
        "apple.index"
      ],
      "metadata": {
        "id": "90eXg-sABM5w"
      },
      "execution_count": null,
      "outputs": []
    }
  ]
}